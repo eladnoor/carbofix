{
 "cells": [
  {
   "cell_type": "code",
   "execution_count": 63,
   "metadata": {
    "collapsed": false
   },
   "outputs": [
    {
     "data": {
      "text/latex": [
       "We define the binomial distribution $f$ as\n",
       "\\begin{align}\n",
       "\\Theta &= 0.011 \\\\\n",
       "f(k;n,\\Theta) &= {n \\choose k}\\Theta^k(1-\\Theta)^{n-k}\\\\\n",
       "\\end{align}\n",
       "Let $X$ be the measured isotope fractions, and $Y$ the real isotope fractions (i.e. if the natural abundance was zero).\n",
       "\\begin{align}\n",
       "X_0 &= f(0;N,\\Theta) \\cdot Y_0 \\\\\n",
       "X_1 &= f(1;N,\\Theta) \\cdot Y_0 + f(0;N-1,\\Theta) \\cdot Y_1 \\\\\n",
       "X_2 &= f(2;N,\\Theta) \\cdot Y_0 + f(1;N-1,\\Theta) \\cdot Y_1 + f(0;N-2,\\Theta) \\cdot Y_2 \\\\\n",
       "X_i &= \\sum_{j=0}^{i} f(i-j;N-j,\\Theta) \\cdot Y_j\n",
       "\\end{align}\n",
       "\n",
       "So we can define a matrix $F$, such that:\n",
       "$$\\forall i \\ge j ~~~ F_{i,j} = f(i-j;N-j,\\Theta) = {N-j \\choose i-j} \\Theta^{i-j} (1-\\Theta)^{N-i}$$\n",
       "and the rest are zeros. Then it is easy to see that $X = FY$ and since $F$ is non-singular we can solve $Y = F^{-1}X$."
      ],
      "text/plain": [
       "<IPython.core.display.Latex object>"
      ]
     },
     "metadata": {},
     "output_type": "display_data"
    }
   ],
   "source": [
    "%%latex\n",
    "We define the binomial distribution $f$ as\n",
    "\\begin{align}\n",
    "\\Theta &= 0.011 \\\\\n",
    "f(k;n,\\Theta) &= {n \\choose k}\\Theta^k(1-\\Theta)^{n-k}\\\\\n",
    "\\end{align}\n",
    "Let $X$ be the measured isotope fractions, and $Y$ the real isotope fractions (i.e. if the natural abundance was zero).\n",
    "\\begin{align}\n",
    "X_0 &= f(0;N,\\Theta) \\cdot Y_0 \\\\\n",
    "X_1 &= f(1;N,\\Theta) \\cdot Y_0 + f(0;N-1,\\Theta) \\cdot Y_1 \\\\\n",
    "X_2 &= f(2;N,\\Theta) \\cdot Y_0 + f(1;N-1,\\Theta) \\cdot Y_1 + f(0;N-2,\\Theta) \\cdot Y_2 \\\\\n",
    "X_i &= \\sum_{j=0}^{i} f(i-j;N-j,\\Theta) \\cdot Y_j\n",
    "\\end{align}\n",
    "\n",
    "So we can define a matrix $F$, such that:\n",
    "$$\\forall i \\ge j ~~~ F_{i,j} = f(i-j;N-j,\\Theta) = {N-j \\choose i-j} \\Theta^{i-j} (1-\\Theta)^{N-i}$$\n",
    "and the rest are zeros. Then it is easy to see that $X = FY$ and since $F$ is non-singular we can solve $Y = F^{-1}X$."
   ]
  },
  {
   "cell_type": "code",
   "execution_count": 127,
   "metadata": {
    "collapsed": false
   },
   "outputs": [
    {
     "name": "stdout",
     "output_type": "stream",
     "text": [
      "The corrected isotope relative abundances are:\n",
      "--------------------------------------------------\n",
      " M + 0  |   M + 1  |   M + 2  |   M + 3  |   M + 4\n",
      "13.78%  |   0.76%  |   0.03%  |  13.32%  |  72.93%\n",
      "--------------------------------------------------\n"
     ]
    }
   ],
   "source": [
    "#######################################################\n",
    "# Here you place the input data - counts for each mass \n",
    "# starting with M+0 (of course)\n",
    "#\n",
    "counts = [900, 100, 5, 900, 5000]\n",
    "#\n",
    "#######################################################\n",
    "\n",
    "import numpy as np\n",
    "from scipy.misc import comb\n",
    "theta = 0.011\n",
    "\n",
    "N = len(counts)\n",
    "X = np.matrix(counts, dtype=float).T\n",
    "X = X / X.sum()\n",
    "\n",
    "F = np.matrix(np.zeros((N, N)))\n",
    "for i in xrange(N):\n",
    "    for j in xrange(i+1):\n",
    "        F[i,j] = comb(N-j, i-j) * theta**(i-j) * (1-theta)**(N-j)\n",
    "        \n",
    "Y = F.I * X\n",
    "\n",
    "print \"The corrected isotope relative abundances are:\"\n",
    "print '-'*50\n",
    "print '  |  '.join(map(lambda d: ' M + %d' % d, range(N)))\n",
    "print '  |  '.join(map(lambda s: '%5.2f%%' % (s*100), Y.flat))\n",
    "print '-'*50\n"
   ]
  }
 ],
 "metadata": {
  "kernelspec": {
   "display_name": "Python 2",
   "language": "python",
   "name": "python2"
  },
  "language_info": {
   "codemirror_mode": {
    "name": "ipython",
    "version": 2
   },
   "file_extension": ".py",
   "mimetype": "text/x-python",
   "name": "python",
   "nbconvert_exporter": "python",
   "pygments_lexer": "ipython2",
   "version": "2.7.9"
  }
 },
 "nbformat": 4,
 "nbformat_minor": 0
}
